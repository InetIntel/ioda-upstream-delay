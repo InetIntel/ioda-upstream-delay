{
  "nbformat": 4,
  "nbformat_minor": 0,
  "metadata": {
    "colab": {
      "provenance": []
    },
    "kernelspec": {
      "name": "python3",
      "display_name": "Python 3"
    },
    "language_info": {
      "name": "python"
    }
  },
  "cells": [
    {
      "cell_type": "markdown",
      "source": [
        "This notebook provides the code to calculate:\n",
        "- A `csv` file with a cumulative number of unique prefixes for each AS. The file has three columns: AS, NumPrefix and CDF.\n",
        "- Size of the bundles formed by considering unique prefixes - Includes a plot for the same.\n",
        "- A `json` file which contains information about each bundle: AS number and the prefixes in the bundle\n",
        "- A function to compare two bundle snapshots\n",
        "\n",
        "Here, the following terms are described as:\n",
        "- Unique prefixes: prefixes with unique AS paths from atleast 5 VPs\n",
        "- Bundles: group of prefixes with identical AS paths\n",
        "\n",
        "\n",
        "As a first step download the following dependencies:"
      ],
      "metadata": {
        "id": "WopomJ41ZlVD"
      }
    },
    {
      "cell_type": "code",
      "execution_count": null,
      "metadata": {
        "colab": {
          "base_uri": "https://localhost:8080/"
        },
        "id": "32bd6WV9JV1c",
        "outputId": "999ece0c-5334-4b3d-b860-96e7eee90277"
      },
      "outputs": [
        {
          "output_type": "stream",
          "name": "stdout",
          "text": [
            "Get:1 https://cloud.r-project.org/bin/linux/ubuntu focal-cran40/ InRelease [3,622 B]\n",
            "Get:2 https://developer.download.nvidia.com/compute/cuda/repos/ubuntu2004/x86_64  InRelease [1,581 B]\n",
            "Get:3 http://security.ubuntu.com/ubuntu focal-security InRelease [114 kB]\n",
            "Hit:4 http://archive.ubuntu.com/ubuntu focal InRelease\n",
            "Hit:5 http://ppa.launchpad.net/c2d4u.team/c2d4u4.0+/ubuntu focal InRelease\n",
            "Get:6 http://archive.ubuntu.com/ubuntu focal-updates InRelease [114 kB]\n",
            "Hit:7 http://ppa.launchpad.net/cran/libgit2/ubuntu focal InRelease\n",
            "Hit:8 http://ppa.launchpad.net/deadsnakes/ppa/ubuntu focal InRelease\n",
            "Get:9 http://archive.ubuntu.com/ubuntu focal-backports InRelease [108 kB]\n",
            "Get:10 https://developer.download.nvidia.com/compute/cuda/repos/ubuntu2004/x86_64  Packages [1,007 kB]\n",
            "Hit:11 http://ppa.launchpad.net/graphics-drivers/ppa/ubuntu focal InRelease\n",
            "Hit:12 http://ppa.launchpad.net/ubuntugis/ppa/ubuntu focal InRelease\n",
            "Get:13 http://security.ubuntu.com/ubuntu focal-security/main amd64 Packages [2,668 kB]\n",
            "Get:14 http://archive.ubuntu.com/ubuntu focal-updates/main amd64 Packages [3,150 kB]\n",
            "Fetched 7,166 kB in 3s (2,541 kB/s)\n",
            "Reading package lists... Done\n",
            "Reading package lists... Done\n",
            "Building dependency tree       \n",
            "Reading state information... Done\n",
            "lsb-release is already the newest version (11.1.0ubuntu2).\n",
            "lsb-release set to manually installed.\n",
            "ca-certificates is already the newest version (20211016ubuntu0.20.04.1).\n",
            "curl is already the newest version (7.68.0-1ubuntu2.18).\n",
            "gnupg is already the newest version (2.2.19-3ubuntu2.2).\n",
            "gnupg set to manually installed.\n",
            "Suggested packages:\n",
            "  openssl-blacklist\n",
            "The following NEW packages will be installed:\n",
            "  apt-transport-https ssl-cert\n",
            "0 upgraded, 2 newly installed, 0 to remove and 25 not upgraded.\n",
            "Need to get 18.7 kB of archives.\n",
            "After this operation, 226 kB of additional disk space will be used.\n",
            "Get:1 http://archive.ubuntu.com/ubuntu focal-updates/universe amd64 apt-transport-https all 2.0.9 [1,704 B]\n",
            "Get:2 http://archive.ubuntu.com/ubuntu focal/main amd64 ssl-cert all 1.0.39 [17.0 kB]\n",
            "Fetched 18.7 kB in 0s (72.5 kB/s)\n",
            "debconf: unable to initialize frontend: Dialog\n",
            "debconf: (No usable dialog-like program is installed, so the dialog based frontend cannot be used. at /usr/share/perl5/Debconf/FrontEnd/Dialog.pm line 76, <> line 2.)\n",
            "debconf: falling back to frontend: Readline\n",
            "debconf: unable to initialize frontend: Readline\n",
            "debconf: (This frontend requires a controlling tty.)\n",
            "debconf: falling back to frontend: Teletype\n",
            "dpkg-preconfigure: unable to re-open stdin: \n",
            "Selecting previously unselected package apt-transport-https.\n",
            "(Reading database ... 122518 files and directories currently installed.)\n",
            "Preparing to unpack .../apt-transport-https_2.0.9_all.deb ...\n",
            "Unpacking apt-transport-https (2.0.9) ...\n",
            "Selecting previously unselected package ssl-cert.\n",
            "Preparing to unpack .../ssl-cert_1.0.39_all.deb ...\n",
            "Unpacking ssl-cert (1.0.39) ...\n",
            "Setting up apt-transport-https (2.0.9) ...\n",
            "Setting up ssl-cert (1.0.39) ...\n",
            "debconf: unable to initialize frontend: Dialog\n",
            "debconf: (No usable dialog-like program is installed, so the dialog based frontend cannot be used. at /usr/share/perl5/Debconf/FrontEnd/Dialog.pm line 76.)\n",
            "debconf: falling back to frontend: Readline\n",
            "Processing triggers for man-db (2.9.1-1) ...\n",
            "Executing the  setup script for the 'wand/libwandio' repository ...\n",
            "\n",
            "\u001b[32m   OK\u001b[39;49m: Checking for required executable 'curl' ...\n",
            "\u001b[32m   OK\u001b[39;49m: Checking for required executable 'apt-get' ...\n",
            "\u001b[32m   OK\u001b[39;49m: Detecting your OS distribution and release using system methods ...\n",
            " ^^^^: ... Detected/provided for your OS/distribution, version and architecture:\n",
            " >>>>:\n",
            " >>>>: ... distro=\u001b[32mubuntu\u001b[39;49m  version=\u001b[32m20.04\u001b[39;49m  codename=\u001b[32mfocal\u001b[39;49m  arch=\u001b[32mx86_64\u001b[39;49m  \n",
            " >>>>:\n",
            "\u001b[32m   OK\u001b[39;49m: Checking for apt dependency 'apt-transport-https' ...\n",
            "\u001b[32m   OK\u001b[39;49m: Checking for apt dependency 'ca-certificates' ...\n",
            "\u001b[32m   OK\u001b[39;49m: Checking for apt dependency 'gnupg' ...\n",
            "\u001b[32m   OK\u001b[39;49m: Checking for apt signed-by key support ...\n",
            "\u001b[32m   OK\u001b[39;49m: Importing 'wand/libwandio' repository GPG key ...\n",
            "\u001b[32m   OK\u001b[39;49m: Checking if upstream install config is OK ...\n",
            "\u001b[32m   OK\u001b[39;49m: Installing 'wand/libwandio' repository via apt ...\n",
            "\u001b[32m   OK\u001b[39;49m: Updating apt repository metadata cache ...\n",
            "\u001b[32m   OK\u001b[39;49m: The repository has been installed successfully - You're ready to rock!\n",
            "\n",
            "deb https://pkg.caida.org/os/ubuntu focal main\n",
            "--2023-05-04 13:06:26--  https://pkg.caida.org/os/ubuntu/keyring.gpg\n",
            "Resolving pkg.caida.org (pkg.caida.org)... 192.172.226.26, 192.172.226.6, 192.172.226.21\n",
            "Connecting to pkg.caida.org (pkg.caida.org)|192.172.226.26|:443... connected.\n",
            "HTTP request sent, awaiting response... 200 OK\n",
            "Length: 2310 (2.3K) [application/octet-stream]\n",
            "Saving to: ‘/etc/apt/trusted.gpg.d/caida.gpg’\n",
            "\n",
            "/etc/apt/trusted.gp 100%[===================>]   2.26K  --.-KB/s    in 0s      \n",
            "\n",
            "2023-05-04 13:06:27 (321 MB/s) - ‘/etc/apt/trusted.gpg.d/caida.gpg’ saved [2310/2310]\n",
            "\n",
            "Hit:1 http://security.ubuntu.com/ubuntu focal-security InRelease\n",
            "Hit:2 https://cloud.r-project.org/bin/linux/ubuntu focal-cran40/ InRelease\n",
            "Get:3 https://dl.cloudsmith.io/public/wand/libwandio/deb/ubuntu focal InRelease [5,055 B]\n",
            "Hit:4 https://developer.download.nvidia.com/compute/cuda/repos/ubuntu2004/x86_64  InRelease\n",
            "Hit:5 http://ppa.launchpad.net/c2d4u.team/c2d4u4.0+/ubuntu focal InRelease\n",
            "Hit:6 http://archive.ubuntu.com/ubuntu focal InRelease\n",
            "Hit:7 http://archive.ubuntu.com/ubuntu focal-updates InRelease\n",
            "Hit:8 http://ppa.launchpad.net/cran/libgit2/ubuntu focal InRelease\n",
            "Hit:9 http://archive.ubuntu.com/ubuntu focal-backports InRelease\n",
            "Get:10 https://pkg.caida.org/os/ubuntu focal InRelease [3,554 B]\n",
            "Hit:11 http://ppa.launchpad.net/deadsnakes/ppa/ubuntu focal InRelease\n",
            "Hit:12 http://ppa.launchpad.net/graphics-drivers/ppa/ubuntu focal InRelease\n",
            "Hit:13 http://ppa.launchpad.net/ubuntugis/ppa/ubuntu focal InRelease\n",
            "Get:14 https://pkg.caida.org/os/ubuntu focal/main amd64 Packages [26.2 kB]\n",
            "Fetched 34.8 kB in 5s (7,027 B/s)\n",
            "Reading package lists... Done\n",
            "Building dependency tree       \n",
            "Reading state information... Done\n",
            "25 packages can be upgraded. Run 'apt list --upgradable' to see them.\n",
            "Reading package lists... Done\n",
            "Building dependency tree       \n",
            "Reading state information... Done\n",
            "The following additional packages will be installed:\n",
            "  bgpstream2-tools libbgpstream2 libbgpstream2-dev liblzo2-2 librdkafka++1\n",
            "  librdkafka-dev librdkafka1 libwandio1\n",
            "The following NEW packages will be installed:\n",
            "  bgpstream bgpstream2-tools libbgpstream2 libbgpstream2-dev liblzo2-2\n",
            "  librdkafka++1 librdkafka-dev librdkafka1 libwandio1\n",
            "0 upgraded, 9 newly installed, 0 to remove and 25 not upgraded.\n",
            "Need to get 1,259 kB of archives.\n",
            "After this operation, 5,914 kB of additional disk space will be used.\n",
            "Get:1 http://archive.ubuntu.com/ubuntu focal/main amd64 liblzo2-2 amd64 2.10-2 [50.8 kB]\n",
            "Get:2 https://pkg.caida.org/os/ubuntu focal/main amd64 libbgpstream2 amd64 2.2.0 [173 kB]\n",
            "Get:3 http://archive.ubuntu.com/ubuntu focal/universe amd64 librdkafka1 amd64 1.2.1-1ubuntu1 [410 kB]\n",
            "Get:4 http://archive.ubuntu.com/ubuntu focal/universe amd64 librdkafka++1 amd64 1.2.1-1ubuntu1 [38.8 kB]\n",
            "Get:5 https://pkg.caida.org/os/ubuntu focal/main amd64 bgpstream2-tools amd64 2.2.0 [10.3 kB]\n",
            "Get:6 http://archive.ubuntu.com/ubuntu focal/universe amd64 librdkafka-dev amd64 1.2.1-1ubuntu1 [524 kB]\n",
            "Get:7 https://pkg.caida.org/os/ubuntu focal/main amd64 libbgpstream2-dev amd64 2.2.0 [22.3 kB]\n",
            "Get:8 https://pkg.caida.org/os/ubuntu focal/main amd64 bgpstream amd64 2.2.0 [2,700 B]\n",
            "Get:9 https://dl.cloudsmith.io/public/wand/libwandio/deb/ubuntu focal/main amd64 libwandio1 amd64 4.2.4-1 [27.7 kB]\n",
            "Fetched 1,259 kB in 1s (1,020 kB/s)\n",
            "debconf: unable to initialize frontend: Dialog\n",
            "debconf: (No usable dialog-like program is installed, so the dialog based frontend cannot be used. at /usr/share/perl5/Debconf/FrontEnd/Dialog.pm line 76, <> line 9.)\n",
            "debconf: falling back to frontend: Readline\n",
            "debconf: unable to initialize frontend: Readline\n",
            "debconf: (This frontend requires a controlling tty.)\n",
            "debconf: falling back to frontend: Teletype\n",
            "dpkg-preconfigure: unable to re-open stdin: \n",
            "Selecting previously unselected package liblzo2-2:amd64.\n",
            "(Reading database ... 122531 files and directories currently installed.)\n",
            "Preparing to unpack .../0-liblzo2-2_2.10-2_amd64.deb ...\n",
            "Unpacking liblzo2-2:amd64 (2.10-2) ...\n",
            "Selecting previously unselected package libwandio1:amd64.\n",
            "Preparing to unpack .../1-libwandio1_4.2.4-1_amd64.deb ...\n",
            "Unpacking libwandio1:amd64 (4.2.4-1) ...\n",
            "Selecting previously unselected package librdkafka1:amd64.\n",
            "Preparing to unpack .../2-librdkafka1_1.2.1-1ubuntu1_amd64.deb ...\n",
            "Unpacking librdkafka1:amd64 (1.2.1-1ubuntu1) ...\n",
            "Selecting previously unselected package librdkafka++1:amd64.\n",
            "Preparing to unpack .../3-librdkafka++1_1.2.1-1ubuntu1_amd64.deb ...\n",
            "Unpacking librdkafka++1:amd64 (1.2.1-1ubuntu1) ...\n",
            "Selecting previously unselected package librdkafka-dev:amd64.\n",
            "Preparing to unpack .../4-librdkafka-dev_1.2.1-1ubuntu1_amd64.deb ...\n",
            "Unpacking librdkafka-dev:amd64 (1.2.1-1ubuntu1) ...\n",
            "Selecting previously unselected package libbgpstream2.\n",
            "Preparing to unpack .../5-libbgpstream2_2.2.0_amd64.deb ...\n",
            "Unpacking libbgpstream2 (2.2.0) ...\n",
            "Selecting previously unselected package bgpstream2-tools.\n",
            "Preparing to unpack .../6-bgpstream2-tools_2.2.0_amd64.deb ...\n",
            "Unpacking bgpstream2-tools (2.2.0) ...\n",
            "Selecting previously unselected package libbgpstream2-dev.\n",
            "Preparing to unpack .../7-libbgpstream2-dev_2.2.0_amd64.deb ...\n",
            "Unpacking libbgpstream2-dev (2.2.0) ...\n",
            "Selecting previously unselected package bgpstream.\n",
            "Preparing to unpack .../8-bgpstream_2.2.0_amd64.deb ...\n",
            "Unpacking bgpstream (2.2.0) ...\n",
            "Setting up liblzo2-2:amd64 (2.10-2) ...\n",
            "Setting up librdkafka1:amd64 (1.2.1-1ubuntu1) ...\n",
            "Setting up libwandio1:amd64 (4.2.4-1) ...\n",
            "Setting up librdkafka++1:amd64 (1.2.1-1ubuntu1) ...\n",
            "Setting up librdkafka-dev:amd64 (1.2.1-1ubuntu1) ...\n",
            "Setting up libbgpstream2 (2.2.0) ...\n",
            "Setting up bgpstream2-tools (2.2.0) ...\n",
            "Setting up libbgpstream2-dev (2.2.0) ...\n",
            "Setting up bgpstream (2.2.0) ...\n",
            "Processing triggers for libc-bin (2.31-0ubuntu9.9) ...\n",
            "Looking in indexes: https://pypi.org/simple, https://us-python.pkg.dev/colab-wheels/public/simple/\n",
            "Collecting pybgpstream\n",
            "  Downloading pybgpstream-2.0.2.tar.gz (11 kB)\n",
            "  Preparing metadata (setup.py) ... \u001b[?25l\u001b[?25hdone\n",
            "Requirement already satisfied: python-dateutil in /usr/local/lib/python3.10/dist-packages (from pybgpstream) (2.8.2)\n",
            "Requirement already satisfied: six>=1.5 in /usr/local/lib/python3.10/dist-packages (from python-dateutil->pybgpstream) (1.16.0)\n",
            "Building wheels for collected packages: pybgpstream\n",
            "  Building wheel for pybgpstream (setup.py) ... \u001b[?25l\u001b[?25hdone\n",
            "  Created wheel for pybgpstream: filename=pybgpstream-2.0.2-cp310-cp310-linux_x86_64.whl size=54518 sha256=ca673fc3b9396705dedcbe0e33d19cdc86b67d755882375a56ebbc0466aa5f8d\n",
            "  Stored in directory: /root/.cache/pip/wheels/57/0d/00/22378a1fcb44da214fad8118b5b39b2332604869b484de4813\n",
            "Successfully built pybgpstream\n",
            "Installing collected packages: pybgpstream\n",
            "Successfully installed pybgpstream-2.0.2\n"
          ]
        }
      ],
      "source": [
        "!sudo apt-get update\n",
        "!sudo apt-get install -y curl apt-transport-https ssl-cert ca-certificates gnupg lsb-release\n",
        "!curl -1sLf 'https://dl.cloudsmith.io/public/wand/libwandio/cfg/setup/bash.deb.sh' | sudo -E bash\n",
        "!echo \"deb https://pkg.caida.org/os/$(lsb_release -si|awk '{print tolower($0)}') $(lsb_release -sc) main\" | sudo tee /etc/apt/sources.list.d/caida.list\n",
        "!sudo wget -O /etc/apt/trusted.gpg.d/caida.gpg https://pkg.caida.org/os/ubuntu/keyring.gpg\n",
        "!sudo apt update\n",
        "!sudo apt-get install bgpstream -y\n",
        "!pip install pybgpstream"
      ]
    },
    {
      "cell_type": "code",
      "source": [
        "from collections import defaultdict\n",
        "import pybgpstream\n",
        "import bisect\n",
        "import pandas as pd\n",
        "import itertools\n",
        "import matplotlib.pyplot as plt\n",
        "import json"
      ],
      "metadata": {
        "id": "ignjZh_MJoMq"
      },
      "execution_count": null,
      "outputs": []
    },
    {
      "cell_type": "markdown",
      "source": [
        "In this notebook, we will use BGPStream to get the ribdumps from 5 VPs. The `collectors` along with the `from_time ` and `until_time` are passed as parameters to the `collect_records` function to allow flexibility in future calculations. "
      ],
      "metadata": {
        "id": "knXHK5_TcVfG"
      }
    },
    {
      "cell_type": "code",
      "source": [
        "def collect_records(collectors_list, start_time, end_time):\n",
        "\n",
        "  \"\"\"\n",
        "  Input: Collectors (list)\n",
        "         Start and end time in GMT (YYYY-MM-DD HH:MM:SS; String)\n",
        "\n",
        "  Return: 2 Dictionaries: AS_prefix: Maps AS to prefix\n",
        "                          prefix_path: Maps prefix to AS Path\n",
        "  \"\"\"\n",
        "\n",
        "  stream = pybgpstream.BGPStream(\n",
        "    # ALL TIMES ARE IN GMT\n",
        "    from_time= start_time, until_time=end_time,\n",
        "    collectors= collectors_list,\n",
        "    record_type=\"ribs\",\n",
        "    filter=\"ipversion 4\"\n",
        "  )\n",
        "\n",
        "  AS_prefix = defaultdict(set)           # dictionary that maps AS to prefixes it originates: {ASN1: {pfx1, pfx2}, ASN2: .....}\n",
        "  prefix_path = defaultdict(list)        # dictionary that maps prefixes to AS path: {pfx1: {AS1, AS2, ..., origin}, pfx2: .....}\n",
        "\n",
        "  for rec in stream.records():\n",
        "      for elem in rec:\n",
        "          # Get the prefix\n",
        "          pfx = elem.fields[\"prefix\"]\n",
        "          # Get the list of ASes in the AS path\n",
        "          ases = elem.fields[\"as-path\"]\n",
        "          if len(ases) > 0:\n",
        "              # Get the origin ASn (rightmost)\n",
        "              origin = ases.split()[-1]\n",
        "              # Insert the origin ASn along with the prefix it originates\n",
        "              AS_prefix[origin].add(pfx)\n",
        "\n",
        "          bisect.insort(prefix_path[pfx],ases)        # to add paths in a sorted manner (makes comparison easier)\n",
        "\n",
        "  return (AS_prefix, prefix_path)"
      ],
      "metadata": {
        "id": "ElF-_QA1Jywk"
      },
      "execution_count": null,
      "outputs": []
    },
    {
      "cell_type": "markdown",
      "source": [
        "Below are three functions for the calculations mentioned earlier:\n",
        "- get_unique_pfx(AS_prefix, prefix_path) : Calculates the number of unique prefixes for each AS along with its CDF.\n",
        "- get_bundle_count(AS_prefix, prefix_path) : Calculates the size of each bundle formed and plots a graph for the same.\n",
        "- get_bundle_info(AS_prefix, prefix_path) : Calculates more information about the bundles including the ASN and prefixes it involves."
      ],
      "metadata": {
        "id": "asVfQUu4jehR"
      }
    },
    {
      "cell_type": "code",
      "source": [
        "def get_unique_pfx(AS_prefix, prefix_path):\n",
        "\n",
        "  AS_unique_pfx = {}\n",
        "\n",
        "  for asn, pfxs in AS_prefix.items():\n",
        "    s = set()\n",
        "    num_unique = 0\n",
        "    for pfx in pfxs:\n",
        "        n = \" \".join(prefix_path[pfx])\n",
        "        if n not in s:\n",
        "            s.add(n)\n",
        "            num_unique += 1\n",
        "\n",
        "    AS_unique_pfx[asn] = num_unique\n",
        "\n",
        "  return AS_unique_pfx\n",
        "\n",
        "def get_bundle_count(AS_prefix, prefix_path):\n",
        "\n",
        "  bundle_count = {}\n",
        "  path2bundle = {}\n",
        "  bundle2AS = {}\n",
        "  \n",
        "  c = 1\n",
        "  for asn, pfxs in AS_prefix.items():\n",
        "    s = set()\n",
        "    for pfx in pfxs:\n",
        "        n = \" \".join(prefix_path[pfx])\n",
        "        if n not in s:\n",
        "            s.add(n)\n",
        "            path2bundle[n] = c\n",
        "            bundle2AS[c] = asn\n",
        "            bundle_count[c] = 1\n",
        "            c += 1\n",
        "        else:\n",
        "          bundle_count[path2bundle[n]] += 1\n",
        "\n",
        "  return (bundle_count, bundle2AS)\n",
        "\n",
        "def get_bundle_info(AS_prefix, prefix_path):\n",
        "\n",
        "  path2bundle = {}\n",
        "  bundle2AS = {}\n",
        "  bundle_pfx = {}\n",
        "\n",
        "  c = 1\n",
        "  for asn, pfxs in AS_prefix.items():\n",
        "      s = set()\n",
        "      num_unique = 0\n",
        "      for pfx in pfxs:\n",
        "          n = \" \".join(prefix_path[pfx])\n",
        "          if n not in s:\n",
        "              s.add(n)\n",
        "              path2bundle[n] = c\n",
        "              bundle2AS[c] = asn\n",
        "              bundle_pfx[c] = [pfx]\n",
        "              c += 1\n",
        "          else:\n",
        "            bisect.insort(bundle_pfx[path2bundle[n]],pfx)\n",
        "\n",
        "  return (bundle2AS, bundle_pfx)\n"
      ],
      "metadata": {
        "id": "HjIXPbtRL25_"
      },
      "execution_count": null,
      "outputs": []
    },
    {
      "cell_type": "markdown",
      "source": [
        "The following function `unique_to_csv` sorts all the ASNs and unique pfxs (makes the comparison and analysis easier) and stores them in a csv file."
      ],
      "metadata": {
        "id": "wicYFkXPxStt"
      }
    },
    {
      "cell_type": "code",
      "source": [
        "def unique_to_csv(AS_unique_pfx, name = \"result_total.csv\" ):\n",
        "\n",
        "  AS = list(AS_unique_pfx.keys())\n",
        "  unique_pfx = list(AS_unique_pfx.values())\n",
        "  result_AS = [x for _, x in sorted(zip(unique_pfx, AS), reverse = True)]\n",
        "  result_unique_pfx = sorted(unique_pfx, reverse = True)\n",
        "  result_cdf = itertools.accumulate(result_unique_pfx)\n",
        "\n",
        "  data = {\n",
        "      \"AS\" : result_AS,\n",
        "      \"NumPrefix\" : result_unique_pfx,\n",
        "      \"CDF\" : result_cdf\n",
        "  }\n",
        "\n",
        "  df = pd.DataFrame(data)\n",
        "  print(df.head())\n",
        "\n",
        "  # Write the DataFrame to a CSV file\n",
        "  df.to_csv(name)"
      ],
      "metadata": {
        "id": "1Vd70FPtNd7o"
      },
      "execution_count": null,
      "outputs": []
    },
    {
      "cell_type": "code",
      "source": [
        "# Script that ties all the functions together to build a csv file\n",
        "# with unique_pfx data\n",
        "\n",
        "collectors=[\"route-views.chicago\", \"route-views.amsix\", \"route-views.bknix\", \"route-views.chile\", \"route-views.flix\"]\n",
        "from_time=\"2023-03-01 07:50:00\"\n",
        "until_time=\"2023-03-01 08:10:00\"\n",
        "AS_prefix, prefix_path = collect_records(collectors, from_time, until_time)\n",
        "\n",
        "AS_unique_pfx = get_unique_pfx(AS_prefix, prefix_path)\n",
        "unique_to_csv(AS_unique_pfx)\n"
      ],
      "metadata": {
        "id": "7yfpQ774xvdI"
      },
      "execution_count": null,
      "outputs": []
    },
    {
      "cell_type": "code",
      "source": [
        "# Plot of freq of size of bundle (number of bundles) vs size\n",
        "\n",
        "bundle_count, bundle2AS = get_bundle_count(AS_prefix, prefix_path)\n",
        "# Get the values from the dictionary\n",
        "values = list(bundle_count.values())\n",
        "\n",
        "# Create a histogram with 10 bins\n",
        "plt.hist(values, bins=100, log=True)\n",
        "\n",
        "# Add labels and title\n",
        "plt.xlabel('Size')\n",
        "plt.ylabel('Number of Bundles')\n",
        "plt.title(\"Frequency Plot of size of bundles\")\n",
        "\n",
        "# Display the plot\n",
        "plt.show()"
      ],
      "metadata": {
        "colab": {
          "base_uri": "https://localhost:8080/",
          "height": 472
        },
        "id": "xoCPEcKi5lLz",
        "outputId": "c40f86c5-951f-479d-b966-4bf8c603e238"
      },
      "execution_count": null,
      "outputs": [
        {
          "output_type": "display_data",
          "data": {
            "text/plain": [
              "<Figure size 640x480 with 1 Axes>"
            ],
            "image/png": "[encoded data removed]"
          },
          "metadata": {}
        }
      ]
    },
    {
      "cell_type": "code",
      "source": [
        "import numpy as np\n",
        "\n",
        "plt.hist(values, bins = 100, cumulative=True, log = True)\n",
        "\n",
        "plt.xlabel('Size')\n",
        "plt.ylabel('Cumulative Number of Bundles')\n",
        "plt.title('CDF plot')\n",
        "\n",
        "# Show the plot\n",
        "plt.show()"
      ],
      "metadata": {
        "colab": {
          "base_uri": "https://localhost:8080/",
          "height": 472
        },
        "id": "h1L_gaXbUdcZ",
        "outputId": "8fdb8f55-6442-4f8d-9e59-717b9a76af42"
      },
      "execution_count": null,
      "outputs": [
        {
          "output_type": "display_data",
          "data": {
            "text/plain": [
              "<Figure size 640x480 with 1 Axes>"
            ],
            "image/png": "[encoded data removed]"
          },
          "metadata": {}
        }
      ]
    },
    {
      "cell_type": "code",
      "source": [
        "# Plot of number of bundles vs number of prefixes for each AS\n",
        "\n",
        "AS_counts = {}\n",
        "pfx_count = []\n",
        "\n",
        "for bundle, count in bundle_count.items():\n",
        "    AS_number = bundle2AS.get(bundle)\n",
        "    if AS_number is not None:\n",
        "        AS_counts[AS_number] = AS_counts.get(AS_number, 0) + count\n",
        "\n",
        "AS_counts_values = list(dict(sorted(AS_counts.items())).values())\n",
        "pfx_count = list(dict(sorted(AS_unique_pfx.items())).values())\n",
        "\n",
        "plt.scatter(AS_counts_values, pfx_count)\n",
        "\n",
        "# Add labels and title\n",
        "plt.xlabel('Size')\n",
        "plt.ylabel('Number of Bundles')\n",
        "plt.title(\"Frequency Plot of size of bundles\")\n",
        "\n",
        "# Display the plot\n",
        "plt.show()\n",
        "\n"
      ],
      "metadata": {
        "colab": {
          "base_uri": "https://localhost:8080/",
          "height": 472
        },
        "id": "wdYh3gaVLdwG",
        "outputId": "417f0427-b73e-4c72-ad86-f26d7467ebeb"
      },
      "execution_count": null,
      "outputs": [
        {
          "output_type": "display_data",
          "data": {
            "text/plain": [
              "<Figure size 640x480 with 1 Axes>"
            ],
            "image/png": "[encoded data removed]"
          },
          "metadata": {}
        }
      ]
    },
    {
      "cell_type": "markdown",
      "source": [
        "The following function `bundles_to_json` sorts all the bundle values and prefixes (easy for comparison) and stores all the data in a json file"
      ],
      "metadata": {
        "id": "6jp6u2XlK7RD"
      }
    },
    {
      "cell_type": "code",
      "source": [
        "def bundles_to_json(bundle2AS, bundle_pfx, name = 'bundle_data.json'):\n",
        "  sorted_bundle2AS = {k: v for k, v in sorted(bundle2AS.items(), key=lambda item: item[1])}\n",
        "  sorted_bundle_prefix = {k: sorted(v) for k, v in sorted(bundle_pfx.items(), key=lambda item: (sorted_bundle2AS[item[0]], item[1]))}\n",
        "\n",
        "  # Create a list of dictionaries\n",
        "  data = []\n",
        "  for i, bundle in enumerate(sorted_bundle_prefix):\n",
        "      AS = sorted_bundle2AS[bundle]\n",
        "      prefixes = sorted_bundle_prefix[bundle]\n",
        "      data.append({'serial number': i+1, 'bundle_number': bundle, 'AS': AS, 'prefixes': prefixes})\n",
        "\n",
        "  # Write the list to a JSON file\n",
        "  with open(name, 'w') as f:\n",
        "      json.dump(data, f, indent=2)"
      ],
      "metadata": {
        "id": "_GIQoPjFBwH5"
      },
      "execution_count": null,
      "outputs": []
    },
    {
      "cell_type": "code",
      "source": [
        "bundle2AS, bundle_pfx = get_bundle_info(AS_prefix, prefix_path)\n",
        "bundles_to_json(bundle2AS, bundle_pfx)"
      ],
      "metadata": {
        "id": "c5Dw5_UxFAm3"
      },
      "execution_count": null,
      "outputs": []
    },
    {
      "cell_type": "code",
      "source": [
        "with open('bundle_data.json', 'r') as f:\n",
        "    preview = f.read(1000)\n",
        "\n",
        "# Print the preview to the console\n",
        "print(preview)"
      ],
      "metadata": {
        "colab": {
          "base_uri": "https://localhost:8080/"
        },
        "id": "gWCXF9jVE8Qy",
        "outputId": "911cee28-52fd-4ea8-9966-c721776f4c39"
      },
      "execution_count": null,
      "outputs": [
        {
          "output_type": "stream",
          "name": "stdout",
          "text": [
            "[\n",
            "  {\n",
            "    \"serial number\": 1,\n",
            "    \"bundle_number\": 103184,\n",
            "    \"AS\": \"1\",\n",
            "    \"prefixes\": [\n",
            "      \"140.106.223.0/24\"\n",
            "    ]\n",
            "  },\n",
            "  {\n",
            "    \"serial number\": 2,\n",
            "    \"bundle_number\": 103182,\n",
            "    \"AS\": \"1\",\n",
            "    \"prefixes\": [\n",
            "      \"155.133.112.0/21\",\n",
            "      \"91.225.188.0/22\"\n",
            "    ]\n",
            "  },\n",
            "  {\n",
            "    \"serial number\": 3,\n",
            "    \"bundle_number\": 103181,\n",
            "    \"AS\": \"1\",\n",
            "    \"prefixes\": [\n",
            "      \"187.86.168.0/22\",\n",
            "      \"187.86.168.0/24\",\n",
            "      \"187.86.169.0/24\",\n",
            "      \"187.86.170.0/24\",\n",
            "      \"187.86.171.0/24\"\n",
            "    ]\n",
            "  },\n",
            "  {\n",
            "    \"serial number\": 4,\n",
            "    \"bundle_number\": 103180,\n",
            "    \"AS\": \"1\",\n",
            "    \"prefixes\": [\n",
            "      \"205.207.214.0/24\"\n",
            "    ]\n",
            "  },\n",
            "  {\n",
            "    \"serial number\": 5,\n",
            "    \"bundle_number\": 103185,\n",
            "    \"AS\": \"1\",\n",
            "    \"prefixes\": [\n",
            "      \"212.94.84.0/22\"\n",
            "    ]\n",
            "  },\n",
            "  {\n",
            "    \"serial number\": 6,\n",
            "    \"bundle_number\": 103183,\n",
            "    \"AS\": \"1\",\n",
            "    \"prefixes\": [\n",
            "      \"41.78.37.0/24\"\n",
            "    ]\n",
            "  },\n",
            "  {\n",
            "    \"serial number\": 7,\n",
            "    \"bundle_number\": 103186,\n",
            "    \"AS\": \"1\",\n",
            "    \"prefixes\": [\n",
            "      \"45.176.150.0/23\"\n",
            "    ]\n",
            "  }\n"
          ]
        }
      ]
    },
    {
      "cell_type": "code",
      "source": [
        "bundles_to_json(bundle2AS, bundle_pfx, \"bundle_data_2.json\")"
      ],
      "metadata": {
        "id": "SruzpJC9HLbN"
      },
      "execution_count": null,
      "outputs": []
    },
    {
      "cell_type": "markdown",
      "source": [
        "`compare_json_files` compares two json files. It returns true if both the files are identical. This will be useful when comparing two bundle snapshots"
      ],
      "metadata": {
        "id": "lY17p6aULIbR"
      }
    },
    {
      "cell_type": "code",
      "source": [
        "def compare_json_files(file1, file2):\n",
        "    with open(file1, 'rb') as f1, open(file2, 'rb') as f2:\n",
        "        while True:\n",
        "            byte1 = f1.read(1)\n",
        "            byte2 = f2.read(1)\n",
        "            if byte1 != byte2:\n",
        "                return False\n",
        "            if not byte1:\n",
        "                return True"
      ],
      "metadata": {
        "id": "7-tJ5MZ6JCR-"
      },
      "execution_count": null,
      "outputs": []
    },
    {
      "cell_type": "code",
      "source": [
        "compare_json_files('bundle_data.json', 'bundle_data_2.json')"
      ],
      "metadata": {
        "colab": {
          "base_uri": "https://localhost:8080/"
        },
        "id": "mrpX3o8tHU7t",
        "outputId": "fe69029b-fbe6-44e6-b119-caa57e502125"
      },
      "execution_count": null,
      "outputs": [
        {
          "output_type": "execute_result",
          "data": {
            "text/plain": [
              "True"
            ]
          },
          "metadata": {},
          "execution_count": 28
        }
      ]
    }
  ]
}